{
 "cells": [
  {
   "cell_type": "code",
   "execution_count": 1,
   "metadata": {},
   "outputs": [
    {
     "name": "stderr",
     "output_type": "stream",
     "text": [
      "Using TensorFlow backend.\n"
     ]
    }
   ],
   "source": [
    "import keras\n",
    "import numpy as np\n",
    "\n",
    "from tensorflow.python.keras.callbacks import TensorBoard\n",
    "from time import time\n",
    "# Keras Module\n",
    "from keras.models import Sequential\n",
    "from keras.layers import Dense\n",
    "from keras.layers import Flatten\n",
    "from keras.layers import Dropout\n",
    "from keras.layers.convolutional import Conv2D\n",
    "from keras.layers.convolutional import MaxPooling2D\n",
    "from keras.preprocessing.image import ImageDataGenerator"
   ]
  },
  {
   "cell_type": "code",
   "execution_count": 2,
   "metadata": {},
   "outputs": [],
   "source": [
    "IMAGE_SIZE = 64\n",
    "np.random.seed(3)\n",
    "batch_size = 10"
   ]
  },
  {
   "cell_type": "code",
   "execution_count": 3,
   "metadata": {},
   "outputs": [],
   "source": [
    "datagen = ImageDataGenerator(\n",
    "        rotation_range=40,\n",
    "        width_shift_range=0.2,\n",
    "        height_shift_range=0.2,\n",
    "        shear_range=0.2,\n",
    "        zoom_range=0.2,\n",
    "        horizontal_flip=True)\n",
    "#img = load.img('C:/DataSet/train/0_non/flipme1.jpg')"
   ]
  },
  {
   "cell_type": "code",
   "execution_count": 4,
   "metadata": {
    "scrolled": true
   },
   "outputs": [
    {
     "name": "stdout",
     "output_type": "stream",
     "text": [
      "Found 2500 images belonging to 2 classes.\n",
      "Found 400 images belonging to 2 classes.\n"
     ]
    }
   ],
   "source": [
    "train_datagen = ImageDataGenerator(\n",
    "      rescale=1./255,\n",
    "        shear_range=0.2,\n",
    "        zoom_range=0.2,\n",
    "        horizontal_flip=True)\n",
    "\n",
    "train_generator = train_datagen.flow_from_directory(\n",
    "        'C:/Dataset/train/',\n",
    "        target_size=(IMAGE_SIZE, IMAGE_SIZE),\n",
    "        batch_size=10,\n",
    "        color_mode = 'grayscale',\n",
    "        class_mode='categorical')\n",
    "\n",
    "test_datagen = ImageDataGenerator(rescale=1./255)\n",
    "\n",
    "test_generator = test_datagen.flow_from_directory(\n",
    "        'C:/Dataset/test/',\n",
    "        target_size=(IMAGE_SIZE, IMAGE_SIZE),    \n",
    "        batch_size=10,\n",
    "        color_mode = 'grayscale',\n",
    "        class_mode='categorical')"
   ]
  },
  {
   "cell_type": "code",
   "execution_count": 5,
   "metadata": {
    "scrolled": false
   },
   "outputs": [
    {
     "name": "stdout",
     "output_type": "stream",
     "text": [
      "_________________________________________________________________\n",
      "Layer (type)                 Output Shape              Param #   \n",
      "=================================================================\n",
      "conv2d_1 (Conv2D)            (None, 62, 62, 32)        320       \n",
      "_________________________________________________________________\n",
      "conv2d_2 (Conv2D)            (None, 60, 60, 64)        18496     \n",
      "_________________________________________________________________\n",
      "max_pooling2d_1 (MaxPooling2 (None, 30, 30, 64)        0         \n",
      "_________________________________________________________________\n",
      "conv2d_3 (Conv2D)            (None, 28, 28, 128)       73856     \n",
      "_________________________________________________________________\n",
      "max_pooling2d_2 (MaxPooling2 (None, 14, 14, 128)       0         \n",
      "_________________________________________________________________\n",
      "conv2d_4 (Conv2D)            (None, 12, 12, 64)        73792     \n",
      "_________________________________________________________________\n",
      "max_pooling2d_3 (MaxPooling2 (None, 6, 6, 64)          0         \n",
      "_________________________________________________________________\n",
      "conv2d_5 (Conv2D)            (None, 4, 4, 32)          18464     \n",
      "_________________________________________________________________\n",
      "max_pooling2d_4 (MaxPooling2 (None, 2, 2, 32)          0         \n",
      "_________________________________________________________________\n",
      "flatten_1 (Flatten)          (None, 128)               0         \n",
      "_________________________________________________________________\n",
      "dense_1 (Dense)              (None, 1024)              132096    \n",
      "_________________________________________________________________\n",
      "dropout_1 (Dropout)          (None, 1024)              0         \n",
      "_________________________________________________________________\n",
      "dense_2 (Dense)              (None, 2)                 2050      \n",
      "=================================================================\n",
      "Total params: 319,074\n",
      "Trainable params: 319,074\n",
      "Non-trainable params: 0\n",
      "_________________________________________________________________\n",
      "None\n"
     ]
    }
   ],
   "source": [
    "model = Sequential()\n",
    "model.add(Conv2D(32, kernel_size=(3, 3),\n",
    "                 activation='relu',\n",
    "                 input_shape=(IMAGE_SIZE,IMAGE_SIZE, 1)))\n",
    "\n",
    "model.add(Conv2D(64, (3, 3), activation='relu'))\n",
    "model.add(MaxPooling2D(pool_size=(2, 2)))\n",
    "\n",
    "model.add(Conv2D(128, (3, 3), activation='relu'))\n",
    "model.add(MaxPooling2D(pool_size=(2, 2)))\n",
    "\n",
    "model.add(Conv2D(64, (3, 3), activation='relu'))\n",
    "model.add(MaxPooling2D(pool_size=(2, 2)))\n",
    "\n",
    "model.add(Conv2D(32, (3, 3), activation='relu'))\n",
    "model.add(MaxPooling2D(pool_size=(2, 2)))\n",
    "\n",
    "model.add(Flatten())\n",
    "\n",
    "model.add(Dense(1024, activation='relu'))\n",
    "model.add(Dropout(0.5))\n",
    "\n",
    "model.add(Dense(2, activation='softmax'))\n",
    "\n",
    "print(model.summary())\n",
    "\n",
    "tensorboard = TensorBoard(log_dir=\"./log/{}\".format(time()))"
   ]
  },
  {
   "cell_type": "code",
   "execution_count": 6,
   "metadata": {
    "scrolled": false
   },
   "outputs": [
    {
     "name": "stdout",
     "output_type": "stream",
     "text": [
      "Epoch 1/50\n",
      "200/200 [==============================] - 34s 168ms/step - loss: 0.6909 - acc: 0.5145 - val_loss: 0.6869 - val_acc: 0.5525\n",
      "Epoch 2/50\n",
      "200/200 [==============================] - 35s 177ms/step - loss: 0.6863 - acc: 0.5470 - val_loss: 0.6804 - val_acc: 0.5325\n",
      "Epoch 3/50\n",
      "200/200 [==============================] - 35s 176ms/step - loss: 0.6611 - acc: 0.6055 - val_loss: 0.6500 - val_acc: 0.6125\n",
      "Epoch 4/50\n",
      "200/200 [==============================] - 34s 172ms/step - loss: 0.6206 - acc: 0.6590 - val_loss: 0.6123 - val_acc: 0.6625\n",
      "Epoch 5/50\n",
      "200/200 [==============================] - 33s 166ms/step - loss: 0.5947 - acc: 0.6780 - val_loss: 0.5803 - val_acc: 0.6900\n",
      "Epoch 6/50\n",
      "200/200 [==============================] - 33s 166ms/step - loss: 0.5730 - acc: 0.6925 - val_loss: 0.5260 - val_acc: 0.7450\n",
      "Epoch 7/50\n",
      "200/200 [==============================] - 34s 168ms/step - loss: 0.5756 - acc: 0.6965 - val_loss: 0.5139 - val_acc: 0.7475\n",
      "Epoch 8/50\n",
      "200/200 [==============================] - 35s 177ms/step - loss: 0.5385 - acc: 0.7270 - val_loss: 0.5075 - val_acc: 0.7575\n",
      "Epoch 9/50\n",
      "200/200 [==============================] - 35s 174ms/step - loss: 0.5261 - acc: 0.7375 - val_loss: 0.4755 - val_acc: 0.7950\n",
      "Epoch 10/50\n",
      "200/200 [==============================] - 35s 173ms/step - loss: 0.5108 - acc: 0.7560 - val_loss: 0.4862 - val_acc: 0.8025\n",
      "Epoch 11/50\n",
      "200/200 [==============================] - 34s 172ms/step - loss: 0.5145 - acc: 0.7420 - val_loss: 0.4602 - val_acc: 0.8000\n",
      "Epoch 12/50\n",
      "200/200 [==============================] - 33s 167ms/step - loss: 0.4950 - acc: 0.7510 - val_loss: 0.4604 - val_acc: 0.8100\n",
      "Epoch 13/50\n",
      "200/200 [==============================] - 34s 168ms/step - loss: 0.5033 - acc: 0.7525 - val_loss: 0.4747 - val_acc: 0.7725\n",
      "Epoch 14/50\n",
      "200/200 [==============================] - 34s 170ms/step - loss: 0.4715 - acc: 0.7770 - val_loss: 0.4623 - val_acc: 0.8000\n",
      "Epoch 15/50\n",
      "200/200 [==============================] - 34s 168ms/step - loss: 0.4924 - acc: 0.7580 - val_loss: 0.5066 - val_acc: 0.7750\n",
      "Epoch 16/50\n",
      "200/200 [==============================] - 34s 168ms/step - loss: 0.4759 - acc: 0.7785 - val_loss: 0.4348 - val_acc: 0.8225\n",
      "Epoch 17/50\n",
      "200/200 [==============================] - 35s 174ms/step - loss: 0.4621 - acc: 0.7860 - val_loss: 0.4334 - val_acc: 0.8225\n",
      "Epoch 18/50\n",
      "200/200 [==============================] - 35s 173ms/step - loss: 0.4592 - acc: 0.7765 - val_loss: 0.4304 - val_acc: 0.8400\n",
      "Epoch 19/50\n",
      "200/200 [==============================] - 33s 167ms/step - loss: 0.4583 - acc: 0.7805 - val_loss: 0.4243 - val_acc: 0.8250\n",
      "Epoch 20/50\n",
      "200/200 [==============================] - 34s 170ms/step - loss: 0.4485 - acc: 0.7895 - val_loss: 0.4455 - val_acc: 0.8025\n",
      "Epoch 21/50\n",
      "200/200 [==============================] - 34s 169ms/step - loss: 0.4472 - acc: 0.7870 - val_loss: 0.4277 - val_acc: 0.8275\n",
      "Epoch 22/50\n",
      "200/200 [==============================] - 34s 168ms/step - loss: 0.4376 - acc: 0.7950 - val_loss: 0.4122 - val_acc: 0.8400\n",
      "Epoch 23/50\n",
      "200/200 [==============================] - 34s 171ms/step - loss: 0.4428 - acc: 0.8030 - val_loss: 0.3880 - val_acc: 0.8400\n",
      "Epoch 24/50\n",
      "200/200 [==============================] - 34s 171ms/step - loss: 0.4206 - acc: 0.8050 - val_loss: 0.4091 - val_acc: 0.8400\n",
      "Epoch 25/50\n",
      "200/200 [==============================] - 34s 169ms/step - loss: 0.4491 - acc: 0.7890 - val_loss: 0.4052 - val_acc: 0.8500\n",
      "Epoch 26/50\n",
      "200/200 [==============================] - 35s 173ms/step - loss: 0.4240 - acc: 0.8050 - val_loss: 0.4003 - val_acc: 0.8425\n",
      "Epoch 27/50\n",
      "200/200 [==============================] - 35s 174ms/step - loss: 0.4259 - acc: 0.8115 - val_loss: 0.4319 - val_acc: 0.8175\n",
      "Epoch 28/50\n",
      "200/200 [==============================] - 35s 175ms/step - loss: 0.4212 - acc: 0.7990 - val_loss: 0.3938 - val_acc: 0.8525\n",
      "Epoch 29/50\n",
      "200/200 [==============================] - 34s 169ms/step - loss: 0.4017 - acc: 0.8180 - val_loss: 0.4875 - val_acc: 0.7950\n",
      "Epoch 30/50\n",
      "200/200 [==============================] - 34s 168ms/step - loss: 0.4242 - acc: 0.8035 - val_loss: 0.4200 - val_acc: 0.8125\n",
      "Epoch 31/50\n",
      "200/200 [==============================] - 34s 170ms/step - loss: 0.4046 - acc: 0.8200 - val_loss: 0.4634 - val_acc: 0.7975\n",
      "Epoch 32/50\n",
      "200/200 [==============================] - 34s 169ms/step - loss: 0.4064 - acc: 0.8150 - val_loss: 0.3755 - val_acc: 0.8600\n",
      "Epoch 33/50\n",
      "200/200 [==============================] - 34s 168ms/step - loss: 0.3998 - acc: 0.8240 - val_loss: 0.3643 - val_acc: 0.8350\n",
      "Epoch 34/50\n",
      "200/200 [==============================] - 34s 168ms/step - loss: 0.3996 - acc: 0.8090 - val_loss: 0.3967 - val_acc: 0.8350\n",
      "Epoch 35/50\n",
      "200/200 [==============================] - 35s 174ms/step - loss: 0.3965 - acc: 0.8170 - val_loss: 0.3480 - val_acc: 0.8575\n",
      "Epoch 36/50\n",
      "200/200 [==============================] - 35s 175ms/step - loss: 0.3815 - acc: 0.8250 - val_loss: 0.3743 - val_acc: 0.8600\n",
      "Epoch 37/50\n",
      "200/200 [==============================] - 35s 173ms/step - loss: 0.3761 - acc: 0.8345 - val_loss: 0.3858 - val_acc: 0.8650\n",
      "Epoch 38/50\n",
      "200/200 [==============================] - 35s 177ms/step - loss: 0.3899 - acc: 0.8250 - val_loss: 0.4420 - val_acc: 0.8075\n",
      "Epoch 39/50\n",
      "200/200 [==============================] - 36s 178ms/step - loss: 0.3791 - acc: 0.8415 - val_loss: 0.3649 - val_acc: 0.8375\n",
      "Epoch 40/50\n",
      "200/200 [==============================] - 34s 169ms/step - loss: 0.3889 - acc: 0.8155 - val_loss: 0.3638 - val_acc: 0.8425\n",
      "Epoch 41/50\n",
      "200/200 [==============================] - 34s 171ms/step - loss: 0.3866 - acc: 0.8210 - val_loss: 0.3561 - val_acc: 0.8500\n",
      "Epoch 42/50\n",
      "200/200 [==============================] - 35s 175ms/step - loss: 0.3861 - acc: 0.8225 - val_loss: 0.3293 - val_acc: 0.8750\n",
      "Epoch 43/50\n",
      "200/200 [==============================] - 35s 174ms/step - loss: 0.3624 - acc: 0.8380 - val_loss: 0.3359 - val_acc: 0.8775\n",
      "Epoch 44/50\n",
      "200/200 [==============================] - 35s 175ms/step - loss: 0.3585 - acc: 0.8380 - val_loss: 0.3183 - val_acc: 0.8700\n",
      "Epoch 45/50\n",
      "200/200 [==============================] - 35s 175ms/step - loss: 0.3654 - acc: 0.8465 - val_loss: 0.3079 - val_acc: 0.8700\n",
      "Epoch 46/50\n",
      "200/200 [==============================] - 34s 169ms/step - loss: 0.3635 - acc: 0.8340 - val_loss: 0.3860 - val_acc: 0.8450\n",
      "Epoch 47/50\n",
      "200/200 [==============================] - 34s 169ms/step - loss: 0.3751 - acc: 0.8335 - val_loss: 0.4298 - val_acc: 0.8250\n",
      "Epoch 48/50\n",
      "200/200 [==============================] - 34s 170ms/step - loss: 0.3483 - acc: 0.8455 - val_loss: 0.3118 - val_acc: 0.8750\n",
      "Epoch 49/50\n",
      "200/200 [==============================] - 35s 176ms/step - loss: 0.3534 - acc: 0.8390 - val_loss: 0.4141 - val_acc: 0.8250\n",
      "Epoch 50/50\n",
      "200/200 [==============================] - 35s 176ms/step - loss: 0.3532 - acc: 0.8420 - val_loss: 0.3027 - val_acc: 0.8750\n",
      "-- Evaluate --\n",
      "acc: 87.55%\n"
     ]
    }
   ],
   "source": [
    "#tb_hist = keras.callbacks.TensorBoard(log_dir='./log', histogram_freq=0, write_graph=True, write_images=True)\n",
    "from keras import optimizers\n",
    "LR= 1e-4\n",
    "\n",
    "rms = keras.optimizers.RMSprop(lr=LR)\n",
    "model.compile(loss='categorical_crossentropy', optimizer=rms, metrics=['accuracy'])\n",
    "\n",
    "\n",
    "model.fit_generator(\n",
    "        train_generator,\n",
    "        steps_per_epoch=2000 // batch_size,\n",
    "        epochs=50,\n",
    "        validation_data=test_generator,\n",
    "        validation_steps=400 //batch_size,\n",
    "        callbacks=[tensorboard])\n",
    "\n",
    "#model.save_weights('./model/first.h5')\n",
    "model.save('./model/model_softmax.h5')\n",
    "\n",
    "print(\"-- Evaluate --\")\n",
    "scores = model.evaluate_generator(test_generator, steps=200)\n",
    "print(\"%s: %.2f%%\" %(model.metrics_names[1], scores[1]*100))"
   ]
  },
  {
   "cell_type": "code",
   "execution_count": 6,
   "metadata": {
    "scrolled": true
   },
   "outputs": [
    {
     "name": "stdout",
     "output_type": "stream",
     "text": [
      "-- Evaluate --\n",
      "acc: 85.25%\n"
     ]
    }
   ],
   "source": [
    "print(\"-- Evaluate --\")\n",
    "scores = model.evaluate_generator(test_generator, steps=200)\n",
    "print(\"%s: %.2f%%\" %(model.metrics_names[1], scores[1]*100))"
   ]
  },
  {
   "cell_type": "code",
   "execution_count": 7,
   "metadata": {
    "scrolled": true
   },
   "outputs": [
    {
     "name": "stdout",
     "output_type": "stream",
     "text": [
      "-- Predict --\n",
      "{'drunken': 0, 'non': 1}\n",
      "[[0.83149600 0.16850403]\n",
      " [0.91126537 0.08873464]\n",
      " [0.98319590 0.01680408]\n",
      " [0.87169474 0.12830526]\n",
      " [0.80510128 0.19489868]\n",
      " [0.99834633 0.00165368]\n",
      " [0.00652128 0.99347866]\n",
      " [0.06888712 0.93111283]\n",
      " [0.00697273 0.99302727]\n",
      " [0.07053022 0.92946976]\n",
      " [0.02431720 0.97568274]\n",
      " [0.00230009 0.99769992]\n",
      " [0.04192012 0.95807987]\n",
      " [0.82484132 0.17515872]\n",
      " [0.87579948 0.12420055]\n",
      " [0.25271770 0.74728233]\n",
      " [0.98827308 0.01172691]\n",
      " [0.93802422 0.06197583]\n",
      " [0.95558262 0.04441736]\n",
      " [0.97731119 0.02268881]\n",
      " [0.00822866 0.99177128]\n",
      " [0.01210202 0.98789793]\n",
      " [0.09070795 0.90929204]\n",
      " [0.01114457 0.98885542]\n",
      " [0.06210850 0.93789154]\n",
      " [0.11271532 0.88728470]\n",
      " [0.95333821 0.04666179]\n",
      " [0.15367676 0.84632325]\n",
      " [0.98961884 0.01038116]\n",
      " [0.03937734 0.96062273]\n",
      " [0.79506546 0.20493452]\n",
      " [0.09909296 0.90090698]\n",
      " [0.97684926 0.02315079]\n",
      " [0.04020862 0.95979136]\n",
      " [0.00626484 0.99373513]\n",
      " [0.95879209 0.04120794]\n",
      " [0.05002599 0.94997406]\n",
      " [0.99442261 0.00557735]\n",
      " [0.04313792 0.95686209]\n",
      " [0.45888302 0.54111701]\n",
      " [0.82309562 0.17690440]\n",
      " [0.51237333 0.48762673]\n",
      " [0.77538115 0.22461884]\n",
      " [0.98106086 0.01893918]\n",
      " [0.99751413 0.00248587]\n",
      " [0.02119059 0.97880942]\n",
      " [0.02801393 0.97198606]\n",
      " [0.51727879 0.48272121]\n",
      " [0.08472786 0.91527212]\n",
      " [0.77447182 0.22552820]\n",
      " [0.34914124 0.65085882]\n",
      " [0.34682101 0.65317899]\n",
      " [0.96409798 0.03590195]\n",
      " [0.00513231 0.99486768]\n",
      " [0.46722332 0.53277665]\n",
      " [0.88184595 0.11815408]\n",
      " [0.10435449 0.89564556]\n",
      " [0.95637095 0.04362906]\n",
      " [0.20630272 0.79369730]\n",
      " [0.96451068 0.03548935]\n",
      " [0.01240998 0.98758996]\n",
      " [0.01240915 0.98759091]\n",
      " [0.00509200 0.99490803]\n",
      " [0.98896873 0.01103126]\n",
      " [0.94896740 0.05103258]\n",
      " [0.17519188 0.82480812]\n",
      " [0.21492387 0.78507608]\n",
      " [0.87645173 0.12354823]\n",
      " [0.77765012 0.22234988]\n",
      " [0.04383196 0.95616812]\n",
      " [0.17318268 0.82681739]\n",
      " [0.97638685 0.02361318]\n",
      " [0.01482380 0.98517621]\n",
      " [0.20882480 0.79117525]\n",
      " [0.01854000 0.98145998]\n",
      " [0.97788209 0.02211786]\n",
      " [0.84805328 0.15194672]\n",
      " [0.05334871 0.94665122]\n",
      " [0.33356753 0.66643244]\n",
      " [0.03861697 0.96138299]\n",
      " [0.97993833 0.02006166]\n",
      " [0.88379318 0.11620677]\n",
      " [0.00980202 0.99019802]\n",
      " [0.05858028 0.94141972]\n",
      " [0.07692312 0.92307687]\n",
      " [0.72629601 0.27370396]\n",
      " [0.17717321 0.82282680]\n",
      " [0.12087315 0.87912685]\n",
      " [0.01122070 0.98877931]\n",
      " [0.96851492 0.03148511]\n",
      " [0.02790799 0.97209203]\n",
      " [0.40081522 0.59918481]\n",
      " [0.51710916 0.48289087]\n",
      " [0.67135578 0.32864419]\n",
      " [0.39188185 0.60811818]\n",
      " [0.85990560 0.14009441]\n",
      " [0.98457599 0.01542403]\n",
      " [0.19224724 0.80775279]\n",
      " [0.19526404 0.80473596]\n",
      " [0.77906895 0.22093105]]\n"
     ]
    }
   ],
   "source": [
    "print(\"-- Predict --\")\n",
    "output = model.predict_generator(test_generator, steps=10)\n",
    "np.set_printoptions(formatter={'float': lambda x: \"{0:0.8f}\".format(x)})\n",
    "print(test_generator.class_indices)\n",
    "print(output)"
   ]
  },
  {
   "cell_type": "code",
   "execution_count": 9,
   "metadata": {},
   "outputs": [
    {
     "ename": "SyntaxError",
     "evalue": "invalid syntax (<ipython-input-9-e99ed5e0c1fb>, line 1)",
     "output_type": "error",
     "traceback": [
      "\u001b[1;36m  File \u001b[1;32m\"<ipython-input-9-e99ed5e0c1fb>\"\u001b[1;36m, line \u001b[1;32m1\u001b[0m\n\u001b[1;33m    model.predict_classes(for i in test_generator)\u001b[0m\n\u001b[1;37m                            ^\u001b[0m\n\u001b[1;31mSyntaxError\u001b[0m\u001b[1;31m:\u001b[0m invalid syntax\n"
     ]
    }
   ],
   "source": [
    "model.predict_classes(for i in test_generator)"
   ]
  },
  {
   "cell_type": "code",
   "execution_count": 5,
   "metadata": {},
   "outputs": [],
   "source": [
    "MODEL_NAME = \"model_.h5\"\n",
    "WEIGHT_NAME = \"first.h5\"\n",
    "MODEL_PATH = \"./model/\"\n",
    "model = keras.models.load_model(MODEL_PATH + MODEL_NAME)\n",
    "model.compile(loss='categorical_crossentropy', optimizer ='rmsprop', metrics =['accuracy'])"
   ]
  },
  {
   "cell_type": "code",
   "execution_count": 9,
   "metadata": {},
   "outputs": [
    {
     "ename": "OSError",
     "evalue": "`pydot` failed to call GraphViz.Please install GraphViz (https://www.graphviz.org/) and ensure that its executables are in the $PATH.",
     "output_type": "error",
     "traceback": [
      "\u001b[1;31m---------------------------------------------------------------------------\u001b[0m",
      "\u001b[1;31mFileNotFoundError\u001b[0m                         Traceback (most recent call last)",
      "\u001b[1;32m~\\Anaconda3\\lib\\site-packages\\pydot.py\u001b[0m in \u001b[0;36mcreate\u001b[1;34m(self, prog, format, encoding)\u001b[0m\n\u001b[0;32m   1914\u001b[0m                 \u001b[0marguments\u001b[0m\u001b[1;33m=\u001b[0m\u001b[0marguments\u001b[0m\u001b[1;33m,\u001b[0m\u001b[1;33m\u001b[0m\u001b[1;33m\u001b[0m\u001b[0m\n\u001b[1;32m-> 1915\u001b[1;33m                 \u001b[0mworking_dir\u001b[0m\u001b[1;33m=\u001b[0m\u001b[0mtmp_dir\u001b[0m\u001b[1;33m,\u001b[0m\u001b[1;33m\u001b[0m\u001b[1;33m\u001b[0m\u001b[0m\n\u001b[0m\u001b[0;32m   1916\u001b[0m             )\n",
      "\u001b[1;32m~\\Anaconda3\\lib\\site-packages\\pydot.py\u001b[0m in \u001b[0;36mcall_graphviz\u001b[1;34m(program, arguments, working_dir, **kwargs)\u001b[0m\n\u001b[0;32m    135\u001b[0m         \u001b[0mstdout\u001b[0m\u001b[1;33m=\u001b[0m\u001b[0msubprocess\u001b[0m\u001b[1;33m.\u001b[0m\u001b[0mPIPE\u001b[0m\u001b[1;33m,\u001b[0m\u001b[1;33m\u001b[0m\u001b[1;33m\u001b[0m\u001b[0m\n\u001b[1;32m--> 136\u001b[1;33m         \u001b[1;33m**\u001b[0m\u001b[0mkwargs\u001b[0m\u001b[1;33m\u001b[0m\u001b[1;33m\u001b[0m\u001b[0m\n\u001b[0m\u001b[0;32m    137\u001b[0m     )\n",
      "\u001b[1;32m~\\Anaconda3\\lib\\subprocess.py\u001b[0m in \u001b[0;36m__init__\u001b[1;34m(self, args, bufsize, executable, stdin, stdout, stderr, preexec_fn, close_fds, shell, cwd, env, universal_newlines, startupinfo, creationflags, restore_signals, start_new_session, pass_fds, encoding, errors)\u001b[0m\n\u001b[0;32m    728\u001b[0m                                 \u001b[0merrread\u001b[0m\u001b[1;33m,\u001b[0m \u001b[0merrwrite\u001b[0m\u001b[1;33m,\u001b[0m\u001b[1;33m\u001b[0m\u001b[1;33m\u001b[0m\u001b[0m\n\u001b[1;32m--> 729\u001b[1;33m                                 restore_signals, start_new_session)\n\u001b[0m\u001b[0;32m    730\u001b[0m         \u001b[1;32mexcept\u001b[0m\u001b[1;33m:\u001b[0m\u001b[1;33m\u001b[0m\u001b[1;33m\u001b[0m\u001b[0m\n",
      "\u001b[1;32m~\\Anaconda3\\lib\\subprocess.py\u001b[0m in \u001b[0;36m_execute_child\u001b[1;34m(self, args, executable, preexec_fn, close_fds, pass_fds, cwd, env, startupinfo, creationflags, shell, p2cread, p2cwrite, c2pread, c2pwrite, errread, errwrite, unused_restore_signals, unused_start_new_session)\u001b[0m\n\u001b[0;32m   1016\u001b[0m                                          \u001b[0mos\u001b[0m\u001b[1;33m.\u001b[0m\u001b[0mfspath\u001b[0m\u001b[1;33m(\u001b[0m\u001b[0mcwd\u001b[0m\u001b[1;33m)\u001b[0m \u001b[1;32mif\u001b[0m \u001b[0mcwd\u001b[0m \u001b[1;32mis\u001b[0m \u001b[1;32mnot\u001b[0m \u001b[1;32mNone\u001b[0m \u001b[1;32melse\u001b[0m \u001b[1;32mNone\u001b[0m\u001b[1;33m,\u001b[0m\u001b[1;33m\u001b[0m\u001b[1;33m\u001b[0m\u001b[0m\n\u001b[1;32m-> 1017\u001b[1;33m                                          startupinfo)\n\u001b[0m\u001b[0;32m   1018\u001b[0m             \u001b[1;32mfinally\u001b[0m\u001b[1;33m:\u001b[0m\u001b[1;33m\u001b[0m\u001b[1;33m\u001b[0m\u001b[0m\n",
      "\u001b[1;31mFileNotFoundError\u001b[0m: [WinError 2] 지정된 파일을 찾을 수 없습니다",
      "\nDuring handling of the above exception, another exception occurred:\n",
      "\u001b[1;31mFileNotFoundError\u001b[0m                         Traceback (most recent call last)",
      "\u001b[1;32m~\\Anaconda3\\lib\\site-packages\\keras\\utils\\vis_utils.py\u001b[0m in \u001b[0;36m_check_pydot\u001b[1;34m()\u001b[0m\n\u001b[0;32m     25\u001b[0m         \u001b[1;31m# to check the pydot/graphviz installation.\u001b[0m\u001b[1;33m\u001b[0m\u001b[1;33m\u001b[0m\u001b[1;33m\u001b[0m\u001b[0m\n\u001b[1;32m---> 26\u001b[1;33m         \u001b[0mpydot\u001b[0m\u001b[1;33m.\u001b[0m\u001b[0mDot\u001b[0m\u001b[1;33m.\u001b[0m\u001b[0mcreate\u001b[0m\u001b[1;33m(\u001b[0m\u001b[0mpydot\u001b[0m\u001b[1;33m.\u001b[0m\u001b[0mDot\u001b[0m\u001b[1;33m(\u001b[0m\u001b[1;33m)\u001b[0m\u001b[1;33m)\u001b[0m\u001b[1;33m\u001b[0m\u001b[1;33m\u001b[0m\u001b[0m\n\u001b[0m\u001b[0;32m     27\u001b[0m     \u001b[1;32mexcept\u001b[0m \u001b[0mOSError\u001b[0m\u001b[1;33m:\u001b[0m\u001b[1;33m\u001b[0m\u001b[1;33m\u001b[0m\u001b[0m\n",
      "\u001b[1;32m~\\Anaconda3\\lib\\site-packages\\pydot.py\u001b[0m in \u001b[0;36mcreate\u001b[1;34m(self, prog, format, encoding)\u001b[0m\n\u001b[0;32m   1921\u001b[0m                     prog=prog)\n\u001b[1;32m-> 1922\u001b[1;33m                 \u001b[1;32mraise\u001b[0m \u001b[0mOSError\u001b[0m\u001b[1;33m(\u001b[0m\u001b[1;33m*\u001b[0m\u001b[0margs\u001b[0m\u001b[1;33m)\u001b[0m\u001b[1;33m\u001b[0m\u001b[1;33m\u001b[0m\u001b[0m\n\u001b[0m\u001b[0;32m   1923\u001b[0m             \u001b[1;32melse\u001b[0m\u001b[1;33m:\u001b[0m\u001b[1;33m\u001b[0m\u001b[1;33m\u001b[0m\u001b[0m\n",
      "\u001b[1;31mFileNotFoundError\u001b[0m: [WinError 2] \"dot\" not found in path.",
      "\nDuring handling of the above exception, another exception occurred:\n",
      "\u001b[1;31mOSError\u001b[0m                                   Traceback (most recent call last)",
      "\u001b[1;32m<ipython-input-9-2ccd13705ee5>\u001b[0m in \u001b[0;36m<module>\u001b[1;34m\u001b[0m\n\u001b[0;32m      4\u001b[0m \u001b[0mget_ipython\u001b[0m\u001b[1;33m(\u001b[0m\u001b[1;33m)\u001b[0m\u001b[1;33m.\u001b[0m\u001b[0mrun_line_magic\u001b[0m\u001b[1;33m(\u001b[0m\u001b[1;34m'matplotlib'\u001b[0m\u001b[1;33m,\u001b[0m \u001b[1;34m'inline'\u001b[0m\u001b[1;33m)\u001b[0m\u001b[1;33m\u001b[0m\u001b[1;33m\u001b[0m\u001b[0m\n\u001b[0;32m      5\u001b[0m \u001b[1;33m\u001b[0m\u001b[0m\n\u001b[1;32m----> 6\u001b[1;33m \u001b[0mSVG\u001b[0m\u001b[1;33m(\u001b[0m\u001b[0mmodel_to_dot\u001b[0m\u001b[1;33m(\u001b[0m\u001b[0mmodel\u001b[0m\u001b[1;33m,\u001b[0m \u001b[0mshow_shapes\u001b[0m\u001b[1;33m=\u001b[0m\u001b[1;32mTrue\u001b[0m\u001b[1;33m)\u001b[0m\u001b[1;33m.\u001b[0m\u001b[0mcreate\u001b[0m\u001b[1;33m(\u001b[0m\u001b[0mprog\u001b[0m\u001b[1;33m=\u001b[0m\u001b[1;34m'dot'\u001b[0m\u001b[1;33m,\u001b[0m \u001b[0mformat\u001b[0m\u001b[1;33m=\u001b[0m\u001b[1;34m'svg'\u001b[0m\u001b[1;33m)\u001b[0m\u001b[1;33m)\u001b[0m\u001b[1;33m\u001b[0m\u001b[1;33m\u001b[0m\u001b[0m\n\u001b[0m",
      "\u001b[1;32m~\\Anaconda3\\lib\\site-packages\\keras\\utils\\vis_utils.py\u001b[0m in \u001b[0;36mmodel_to_dot\u001b[1;34m(model, show_shapes, show_layer_names, rankdir)\u001b[0m\n\u001b[0;32m     53\u001b[0m     \u001b[1;32mfrom\u001b[0m \u001b[1;33m.\u001b[0m\u001b[1;33m.\u001b[0m\u001b[0mmodels\u001b[0m \u001b[1;32mimport\u001b[0m \u001b[0mSequential\u001b[0m\u001b[1;33m\u001b[0m\u001b[1;33m\u001b[0m\u001b[0m\n\u001b[0;32m     54\u001b[0m \u001b[1;33m\u001b[0m\u001b[0m\n\u001b[1;32m---> 55\u001b[1;33m     \u001b[0m_check_pydot\u001b[0m\u001b[1;33m(\u001b[0m\u001b[1;33m)\u001b[0m\u001b[1;33m\u001b[0m\u001b[1;33m\u001b[0m\u001b[0m\n\u001b[0m\u001b[0;32m     56\u001b[0m     \u001b[0mdot\u001b[0m \u001b[1;33m=\u001b[0m \u001b[0mpydot\u001b[0m\u001b[1;33m.\u001b[0m\u001b[0mDot\u001b[0m\u001b[1;33m(\u001b[0m\u001b[1;33m)\u001b[0m\u001b[1;33m\u001b[0m\u001b[1;33m\u001b[0m\u001b[0m\n\u001b[0;32m     57\u001b[0m     \u001b[0mdot\u001b[0m\u001b[1;33m.\u001b[0m\u001b[0mset\u001b[0m\u001b[1;33m(\u001b[0m\u001b[1;34m'rankdir'\u001b[0m\u001b[1;33m,\u001b[0m \u001b[0mrankdir\u001b[0m\u001b[1;33m)\u001b[0m\u001b[1;33m\u001b[0m\u001b[1;33m\u001b[0m\u001b[0m\n",
      "\u001b[1;32m~\\Anaconda3\\lib\\site-packages\\keras\\utils\\vis_utils.py\u001b[0m in \u001b[0;36m_check_pydot\u001b[1;34m()\u001b[0m\n\u001b[0;32m     27\u001b[0m     \u001b[1;32mexcept\u001b[0m \u001b[0mOSError\u001b[0m\u001b[1;33m:\u001b[0m\u001b[1;33m\u001b[0m\u001b[1;33m\u001b[0m\u001b[0m\n\u001b[0;32m     28\u001b[0m         raise OSError(\n\u001b[1;32m---> 29\u001b[1;33m             \u001b[1;34m'`pydot` failed to call GraphViz.'\u001b[0m\u001b[1;33m\u001b[0m\u001b[1;33m\u001b[0m\u001b[0m\n\u001b[0m\u001b[0;32m     30\u001b[0m             \u001b[1;34m'Please install GraphViz (https://www.graphviz.org/) '\u001b[0m\u001b[1;33m\u001b[0m\u001b[1;33m\u001b[0m\u001b[0m\n\u001b[0;32m     31\u001b[0m             'and ensure that its executables are in the $PATH.')\n",
      "\u001b[1;31mOSError\u001b[0m: `pydot` failed to call GraphViz.Please install GraphViz (https://www.graphviz.org/) and ensure that its executables are in the $PATH."
     ]
    }
   ],
   "source": [
    "from IPython.display import SVG\n",
    "from keras.utils.vis_utils import model_to_dot\n",
    "\n",
    "%matplotlib inline\n",
    "\n",
    "SVG(model_to_dot(model, show_shapes=True).create(prog='dot', format='svg'))"
   ]
  },
  {
   "cell_type": "code",
   "execution_count": null,
   "metadata": {},
   "outputs": [],
   "source": []
  }
 ],
 "metadata": {
  "kernelspec": {
   "display_name": "Python 3",
   "language": "python",
   "name": "python3"
  },
  "language_info": {
   "codemirror_mode": {
    "name": "ipython",
    "version": 3
   },
   "file_extension": ".py",
   "mimetype": "text/x-python",
   "name": "python",
   "nbconvert_exporter": "python",
   "pygments_lexer": "ipython3",
   "version": "3.6.8"
  }
 },
 "nbformat": 4,
 "nbformat_minor": 2
}
